{
 "cells": [
  {
   "cell_type": "markdown",
   "metadata": {},
   "source": [
    "# 1. Area of triangle using class concept"
   ]
  },
  {
   "cell_type": "code",
   "execution_count": 1,
   "metadata": {},
   "outputs": [],
   "source": [
    "class getSides:\n",
    "    def __init__(self,a,b,c):\n",
    "        self.s1=a\n",
    "        self.s2=b\n",
    "        self.s3=c"
   ]
  },
  {
   "cell_type": "code",
   "execution_count": 3,
   "metadata": {},
   "outputs": [
    {
     "data": {
      "text/plain": [
       "14.696938456699069"
      ]
     },
     "execution_count": 3,
     "metadata": {},
     "output_type": "execute_result"
    }
   ],
   "source": [
    "class CalculateArea(getSides):\n",
    "    def __init__(self,*args):\n",
    "        super(CalculateArea,self).__init__(*args)\n",
    "        \n",
    "    def areaCal(self):\n",
    "        self.s=(self.s1+self.s2+self.s3)/2\n",
    "        self.area=(self.s*(self.s-self.s1)*(self.s-self.s2)*(self.s-self.s3)) ** 0.5\n",
    "        return self.area\n",
    "        \n",
    "triangle=CalculateArea(5,6,7)\n",
    "triangle.areaCal()"
   ]
  },
  {
   "cell_type": "markdown",
   "metadata": {},
   "source": [
    "# 2. Filter long words from given list"
   ]
  },
  {
   "cell_type": "code",
   "execution_count": 7,
   "metadata": {},
   "outputs": [
    {
     "name": "stdout",
     "output_type": "stream",
     "text": [
      "Enter number of words:- 5\n",
      "Enter length:- 4\n",
      "Enter words:- mango\n",
      "Enter words:- apple\n",
      "Enter words:- bat\n",
      "Enter words:- ball\n",
      "Enter words:- donkey\n"
     ]
    },
    {
     "data": {
      "text/plain": [
       "['mango', 'apple', 'donkey']"
      ]
     },
     "execution_count": 7,
     "metadata": {},
     "output_type": "execute_result"
    }
   ],
   "source": [
    "def check(word,n):\n",
    "    if len(word)>n:\n",
    "        return True\n",
    "    else:\n",
    "        return False\n",
    "    \n",
    "words=[]\n",
    "m=int(input(\"Enter number of words:- \"))\n",
    "n=int(input(\"Enter length:- \"))\n",
    "\n",
    "for i in range(m):\n",
    "    s=input(\"Enter words:- \")\n",
    "    words.append(s)\n",
    "    \n",
    "list(filter(lambda x:check(x,n),words))"
   ]
  },
  {
   "cell_type": "markdown",
   "metadata": {},
   "source": [
    "# 3. Mapping list of words to their length"
   ]
  },
  {
   "cell_type": "code",
   "execution_count": 8,
   "metadata": {},
   "outputs": [
    {
     "name": "stdout",
     "output_type": "stream",
     "text": [
      "Enter number of words:- 5\n",
      "Enter words:- mango\n",
      "Enter words:- apple\n",
      "Enter words:- watermelon\n",
      "Enter words:- banana\n",
      "Enter words:- pitch\n"
     ]
    },
    {
     "data": {
      "text/plain": [
       "[5, 5, 10, 6, 5]"
      ]
     },
     "execution_count": 8,
     "metadata": {},
     "output_type": "execute_result"
    }
   ],
   "source": [
    "def getLength(word):\n",
    "    return len(word)\n",
    "\n",
    "words=[]\n",
    "m=int(input(\"Enter number of words:- \"))\n",
    "\n",
    "for i in range(m):\n",
    "    s=input(\"Enter words:- \")\n",
    "    words.append(s)\n",
    "    \n",
    "list(map(getLength,words))"
   ]
  },
  {
   "cell_type": "markdown",
   "metadata": {},
   "source": [
    "# 4. Checking for character is vowel or not"
   ]
  },
  {
   "cell_type": "code",
   "execution_count": 3,
   "metadata": {},
   "outputs": [
    {
     "name": "stdout",
     "output_type": "stream",
     "text": [
      "Enter a character:- E\n",
      "True\n"
     ]
    }
   ],
   "source": [
    "def isVowel(ch):\n",
    "    if ch.lower() in 'aeiou':\n",
    "        return True\n",
    "    else:\n",
    "        return False\n",
    "\n",
    "ch=input(\"Enter a character:- \")\n",
    "print(isVowel(ch))"
   ]
  },
  {
   "cell_type": "code",
   "execution_count": null,
   "metadata": {},
   "outputs": [],
   "source": []
  }
 ],
 "metadata": {
  "kernelspec": {
   "display_name": "Python 3",
   "language": "python",
   "name": "python3"
  },
  "language_info": {
   "codemirror_mode": {
    "name": "ipython",
    "version": 3
   },
   "file_extension": ".py",
   "mimetype": "text/x-python",
   "name": "python",
   "nbconvert_exporter": "python",
   "pygments_lexer": "ipython3",
   "version": "3.8.5"
  }
 },
 "nbformat": 4,
 "nbformat_minor": 4
}
